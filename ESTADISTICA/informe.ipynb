{
 "cells": [
  {
   "cell_type": "code",
   "execution_count": null,
   "metadata": {},
   "outputs": [],
   "source": [
    "%matplotlib inline\n",
    "\n",
    "import matplotlib.pyplot as plt\n",
    "import pandas as pd\n",
    "import numpy as np\n",
    "import seaborn as sns\n",
    "import statistics\n",
    "import scipy.stats\n",
    "import csv \n",
    "from fitter import Fitter, get_common_distributions, get_distributions\n",
    "import statsmodels.api as sm\n",
    "from statsmodels.formula.api import ols\n",
    "from statsmodels.stats.multicomp import MultiComparison\n"
   ]
  },
  {
   "cell_type": "markdown",
   "metadata": {},
   "source": [
    "# Índice Interactivo\n",
    "## 1. [Introducción](#introducción)\n",
    "   - [Contexto del estudio](#contexto-del-estudio)\n",
    "   - [Depuración](#Depuracion)\n",
    "   - [Descripción de variables](#Descripción de variables)\n",
    "   - [Objetivos de la investigación](#objetivos-de-la-investigación)\n",
    "   - [Justificación de la importancia del estudio](#justificación-de-la-importancia-del-estudio)\n",
    "\n",
    "## 2. [Revisión de literatura](#revisión-de-literatura)\n",
    "   - [Estudios previos relacionados con el rendimiento académico y factores asociados](#estudios-previos-relacionados-con-el-rendimiento-académico-y-factores-asociados)\n",
    "\n",
    "## 3. [Metodología](#metodología)\n",
    "   - [Diseño de la investigación](#diseño-de-la-investigación)\n",
    "   - [Selección de la muestra](#selección-de-la-muestra)\n",
    "   - [Instrumentos de recolección de datos](#instrumentos-de-recolección-de-datos)\n",
    "\n",
    "## 4. [Análisis descriptivo](#análisis-descriptivo)\n",
    "   - [Distribución de las notas según el colegio](#distribución-de-las-notas-según-el-colegio)\n",
    "   - [Distribución de las notas según el sexo](#distribución-de-las-notas-según-el-sexo)\n",
    "   - [Distribución de las notas según el rendimiento académico](#distribución-de-las-notas-según-el-rendimiento-académico)\n",
    "\n",
    "## 5. [Análisis inferencial](#análisis-inferencial)\n",
    "   - [Comparación de medias de notas entre colegios](#comparación-de-medias-de-notas-entre-colegios)\n",
    "   - [Análisis de la relación entre sexo y rendimiento académico](#análisis-de-la-relación-entre-sexo-y-rendimiento-académico)\n",
    "   - [Análisis de la interacción entre el colegio y el sexo en relación con el rendimiento académico](#análisis-de-la-interacción-entre-el-colegio-y-el-sexo-en-relación-con-el-rendimiento-académico)\n",
    "\n",
    "## 6. [Resultados](#resultados)\n",
    "   - [Presentación y discusión de los hallazgos obtenidos](#presentación-y-discusión-de-los-hallazgos-obtenidos)\n",
    "\n",
    "## 7. [Conclusiones](#conclusiones)\n",
    "   - [Resumen de los principales resultados](#resumen-de-los-principales-resultados)\n",
    "   - [Implicaciones prácticas y\n"
   ]
  },
  {
   "cell_type": "code",
   "execution_count": null,
   "metadata": {},
   "outputs": [],
   "source": [
    "ruta_csv = 'student-por.csv'\n",
    "df = pd.read_csv(ruta_csv, delimiter = ';')\n",
    "dfc = df.drop(['address', 'famsize', 'Medu', 'Fedu', 'Mjob', 'Fjob', 'reason', 'traveltime','studytime', 'failures','schoolsup', 'famsup', 'paid', 'activities', 'nursery', 'higher', 'internet', 'famrel', 'freetime', 'Dalc', 'Walc', 'health', 'G1', 'G2' ],axis=1)\n",
    "print(dfc.head())"
   ]
  },
  {
   "cell_type": "markdown",
   "metadata": {},
   "source": [
    "# INTRODUCCIÓN"
   ]
  },
  {
   "cell_type": "markdown",
   "metadata": {},
   "source": [
    "## Contexto del estudio"
   ]
  },
  {
   "cell_type": "markdown",
   "metadata": {},
   "source": []
  },
  {
   "cell_type": "markdown",
   "metadata": {},
   "source": [
    "## DEPURACIÓN\n",
    "Se eliminan las variables que no pensamos considerar en el analisis inicial.\n",
    "\n",
    "## Descripción de variables\n",
    "\n",
    ">**Nombre Variable** : school , **Tipo** : Categórica nominativa  , **Descripción** : Escuela del estudiante (binaria: 'GP' - Gabriel Pereira o 'MS' - Mousinho da Silveira).\n",
    "\n",
    ">**Nombre Variable** : sex , **Tipo** : Categórica nominativa , **Descripción** : Género del estudiante (binario: 'F' - femenino o 'M' - masculino).\n",
    "\n",
    ">**Nombre Variable** : age , **Tipo** :Cuantitativa Discreta , **Descripción** : Edad del estudiante (numérica: de 15 a 22).\n",
    "\n",
    ">**Nombre Variable** : Pstatus , **Tipo** : Categórica nominativa , **Descripción** : Estado de convivencia de los padres (binario: 'T' - viviendo juntos o 'A' - separados).\n",
    "\n",
    ">**Nombre Variable** : guardian , **Tipo** : Categórica nominativa , **Descripción** : Tutor del estudiante (nominal: 'madre', 'padre' u 'otro').\n",
    "\n",
    ">**Nombre Variable** : romantic , **Tipo** : Categórica nominativa , **Descripción** : Con una relación romántica (binario: sí o no).\n",
    "\n",
    ">**Nombre Variable** : goout , **Tipo** : Categórica nominativa , **Descripción** : Salir con amigos (numérico: de 1 - muy bajo a 5 - muy alto).\n",
    "\n",
    ">**Nombre Variable** : G3\t , **Tipo** : Cuantitativa Discreta , **Descripción** : Nota final (numérica: de 0 a 20)."
   ]
  },
  {
   "cell_type": "code",
   "execution_count": null,
   "metadata": {},
   "outputs": [],
   "source": [
    "dfc.describe()"
   ]
  }
 ],
 "metadata": {
  "language_info": {
   "name": "python"
  }
 },
 "nbformat": 4,
 "nbformat_minor": 2
}

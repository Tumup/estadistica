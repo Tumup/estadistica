{
 "cells": [
  {
   "cell_type": "code",
   "execution_count": 14,
   "metadata": {},
   "outputs": [],
   "source": [
    "%matplotlib inline\n",
    "\n",
    "import matplotlib.pyplot as plt\n",
    "import pandas as pd\n",
    "import numpy as np\n",
    "import seaborn as sns\n",
    "import statistics\n",
    "import scipy.stats\n",
    "import csv \n",
    "from fitter import Fitter, get_common_distributions, get_distributions\n",
    "import statsmodels.api as sm\n",
    "from statsmodels.formula.api import ols"
   ]
  },
  {
   "cell_type": "code",
   "execution_count": 15,
   "metadata": {},
   "outputs": [
    {
     "name": "stdout",
     "output_type": "stream",
     "text": [
      "  school sex  age Pstatus guardian romantic  goout  G3\n",
      "0     GP   F   18       A   mother       no      4  11\n",
      "1     GP   F   17       T   father       no      3  11\n",
      "2     GP   F   15       T   mother       no      2  12\n",
      "3     GP   F   15       T   mother      yes      2  14\n",
      "4     GP   F   16       T   father       no      2  13\n"
     ]
    }
   ],
   "source": [
    "ruta_csv = 'student-por.csv'\n",
    "df = pd.read_csv(ruta_csv, delimiter = ';')\n",
    "dfc = df.drop(['address', 'famsize', 'Medu', 'Fedu', 'Mjob', 'Fjob', 'reason', 'traveltime','studytime', 'failures','schoolsup', 'famsup', 'paid', 'activities', 'nursery', 'higher', 'internet', 'famrel', 'freetime', 'Dalc', 'Walc', 'health', 'absences', 'G1', 'G2' ],axis=1)\n",
    "print(dfc.head())"
   ]
  },
  {
   "cell_type": "markdown",
   "metadata": {},
   "source": [
    "# DEPURACIÓN\n",
    "Se eliminan las variables que no pensamos considerar en el analisis inicial.\n",
    "\n",
    "## Variables utilizadas\n",
    "\n",
    ">**Nombre Variable** : school , **Tipo** : Categórica nominativa  , **Descripción** : Escuela del estudiante (binaria: 'GP' - Gabriel Pereira o 'MS' - Mousinho da Silveira).\n",
    "\n",
    ">**Nombre Variable** : sex , **Tipo** : Categórica nominativa , **Descripción** : Género del estudiante (binario: 'F' - femenino o 'M' - masculino).\n",
    "\n",
    ">**Nombre Variable** : age , **Tipo** :Cuantitativa Discreta , **Descripción** : Edad del estudiante (numérica: de 15 a 22).\n",
    "\n",
    ">**Nombre Variable** : Pstatus , **Tipo** : Categórica nominativa , **Descripción** : Estado de convivencia de los padres (binario: 'T' - viviendo juntos o 'A' - separados).\n",
    "\n",
    ">**Nombre Variable** : guardian , **Tipo** : Categórica nominativa , **Descripción** : Tutor del estudiante (nominal: 'madre', 'padre' u 'otro').\n",
    "\n",
    ">**Nombre Variable** : romantic , **Tipo** : Categórica nominativa , **Descripción** : Con una relación romántica (binario: sí o no).\n",
    "\n",
    ">**Nombre Variable** : goout , **Tipo** : Cuantitativa Discreta , **Descripción** : Salir con amigos (numérico: de 1 - muy bajo a 5 - muy alto).\n",
    "\n",
    ">**Nombre Variable** : G3\t , **Tipo** : Cuantitativa Discreta , **Descripción** : Nota final (numérica: de 0 a 20)."
   ]
  },
  {
   "cell_type": "code",
   "execution_count": 16,
   "metadata": {},
   "outputs": [
    {
     "data": {
      "text/html": [
       "<div>\n",
       "<style scoped>\n",
       "    .dataframe tbody tr th:only-of-type {\n",
       "        vertical-align: middle;\n",
       "    }\n",
       "\n",
       "    .dataframe tbody tr th {\n",
       "        vertical-align: top;\n",
       "    }\n",
       "\n",
       "    .dataframe thead th {\n",
       "        text-align: right;\n",
       "    }\n",
       "</style>\n",
       "<table border=\"1\" class=\"dataframe\">\n",
       "  <thead>\n",
       "    <tr style=\"text-align: right;\">\n",
       "      <th></th>\n",
       "      <th>age</th>\n",
       "      <th>goout</th>\n",
       "      <th>G3</th>\n",
       "    </tr>\n",
       "  </thead>\n",
       "  <tbody>\n",
       "    <tr>\n",
       "      <th>count</th>\n",
       "      <td>649.000000</td>\n",
       "      <td>649.000000</td>\n",
       "      <td>649.000000</td>\n",
       "    </tr>\n",
       "    <tr>\n",
       "      <th>mean</th>\n",
       "      <td>16.744222</td>\n",
       "      <td>3.184900</td>\n",
       "      <td>11.906009</td>\n",
       "    </tr>\n",
       "    <tr>\n",
       "      <th>std</th>\n",
       "      <td>1.218138</td>\n",
       "      <td>1.175766</td>\n",
       "      <td>3.230656</td>\n",
       "    </tr>\n",
       "    <tr>\n",
       "      <th>min</th>\n",
       "      <td>15.000000</td>\n",
       "      <td>1.000000</td>\n",
       "      <td>0.000000</td>\n",
       "    </tr>\n",
       "    <tr>\n",
       "      <th>25%</th>\n",
       "      <td>16.000000</td>\n",
       "      <td>2.000000</td>\n",
       "      <td>10.000000</td>\n",
       "    </tr>\n",
       "    <tr>\n",
       "      <th>50%</th>\n",
       "      <td>17.000000</td>\n",
       "      <td>3.000000</td>\n",
       "      <td>12.000000</td>\n",
       "    </tr>\n",
       "    <tr>\n",
       "      <th>75%</th>\n",
       "      <td>18.000000</td>\n",
       "      <td>4.000000</td>\n",
       "      <td>14.000000</td>\n",
       "    </tr>\n",
       "    <tr>\n",
       "      <th>max</th>\n",
       "      <td>22.000000</td>\n",
       "      <td>5.000000</td>\n",
       "      <td>19.000000</td>\n",
       "    </tr>\n",
       "  </tbody>\n",
       "</table>\n",
       "</div>"
      ],
      "text/plain": [
       "              age       goout          G3\n",
       "count  649.000000  649.000000  649.000000\n",
       "mean    16.744222    3.184900   11.906009\n",
       "std      1.218138    1.175766    3.230656\n",
       "min     15.000000    1.000000    0.000000\n",
       "25%     16.000000    2.000000   10.000000\n",
       "50%     17.000000    3.000000   12.000000\n",
       "75%     18.000000    4.000000   14.000000\n",
       "max     22.000000    5.000000   19.000000"
      ]
     },
     "execution_count": 16,
     "metadata": {},
     "output_type": "execute_result"
    }
   ],
   "source": [
    "dfc.describe()"
   ]
  },
  {
   "cell_type": "markdown",
   "metadata": {},
   "source": [
    "# Medidas posición y dispersión goout (Muestra)\n",
    "> La media de la muestra es 3.185 aproximadamente y con una desviación típica presente ,en este caso, alrededor de 1.18, lo que indica que los valores de salir con amigos tienden a variar en 1.18 unidades con respecto a la media.\n",
    "> El valor mínimo observado es 1, indicando que algunos estudiantes tienen un nivel muy bajo de salir con amigos.\n",
    "> El 25% de los estudiantes tienen un nivel de salir con amigos igual o inferior a 2\n",
    "> En este caso, el 50% de los estudiantes tienen un nivel de salir con amigos igual o inferior a 3 (Mediana)\n",
    "> El 75% de los estudiantes tienen un nivel de salir con amigos igual o inferior a 4"
   ]
  },
  {
   "cell_type": "markdown",
   "metadata": {},
   "source": [
    "# Medidas posición y dispersión G3 (Muestra)\n",
    "> La media de la muestra es 11.906 aproximadamente y con una desviación típica presente ,en este caso, alrededor de 3.230, lo que indica que las notas finales tienden a variar en 3.230 unidades con respecto a la media.\n",
    "> El valor mínimo observado es 0, lo que sugiere que algunos estudiantes han obtenido la calificación mínima posible.\n",
    "> El 25% de los estudiantes tienen una nota final igual o inferior a 10\n",
    "> En este caso, el 50% de los estudiantes tienen una nota final igual o inferior a 12 (Mediana)\n",
    "> El 75% de los estudiantes tienen una nota final igual o inferior a 14\n",
    "> El valor máximo observado es 19, indicando que ningún estudiantes ha obtenido la calificación máxima posible"
   ]
  },
  {
   "cell_type": "markdown",
   "metadata": {},
   "source": [
    "# CREACIÓN SUBMUESTRAS\n",
    ">Separamos los datos de nuestra muestra por Hombres/Mujeres y por centros de estudios para comprobar si las medidas de posición y dispersión muestrales se comportan igual en los diferentes subgrupos."
   ]
  },
  {
   "cell_type": "code",
   "execution_count": 17,
   "metadata": {},
   "outputs": [],
   "source": [
    "dfcF = dfc[dfc['sex'] == 'F']\n",
    "dfcM = dfc[dfc['sex'] == 'M']\n",
    "dfcGP = dfc[dfc['school']=='GP']\n",
    "dfcMS = dfc[dfc['school']=='MS']"
   ]
  },
  {
   "cell_type": "code",
   "execution_count": 18,
   "metadata": {},
   "outputs": [
    {
     "data": {
      "text/html": [
       "<div>\n",
       "<style scoped>\n",
       "    .dataframe tbody tr th:only-of-type {\n",
       "        vertical-align: middle;\n",
       "    }\n",
       "\n",
       "    .dataframe tbody tr th {\n",
       "        vertical-align: top;\n",
       "    }\n",
       "\n",
       "    .dataframe thead th {\n",
       "        text-align: right;\n",
       "    }\n",
       "</style>\n",
       "<table border=\"1\" class=\"dataframe\">\n",
       "  <thead>\n",
       "    <tr style=\"text-align: right;\">\n",
       "      <th></th>\n",
       "      <th>age</th>\n",
       "      <th>goout</th>\n",
       "      <th>G3</th>\n",
       "    </tr>\n",
       "  </thead>\n",
       "  <tbody>\n",
       "    <tr>\n",
       "      <th>count</th>\n",
       "      <td>383.000000</td>\n",
       "      <td>383.000000</td>\n",
       "      <td>383.000000</td>\n",
       "    </tr>\n",
       "    <tr>\n",
       "      <th>mean</th>\n",
       "      <td>16.788512</td>\n",
       "      <td>3.127937</td>\n",
       "      <td>12.253264</td>\n",
       "    </tr>\n",
       "    <tr>\n",
       "      <th>std</th>\n",
       "      <td>1.175524</td>\n",
       "      <td>1.158546</td>\n",
       "      <td>3.124147</td>\n",
       "    </tr>\n",
       "    <tr>\n",
       "      <th>min</th>\n",
       "      <td>15.000000</td>\n",
       "      <td>1.000000</td>\n",
       "      <td>0.000000</td>\n",
       "    </tr>\n",
       "    <tr>\n",
       "      <th>25%</th>\n",
       "      <td>16.000000</td>\n",
       "      <td>2.000000</td>\n",
       "      <td>10.000000</td>\n",
       "    </tr>\n",
       "    <tr>\n",
       "      <th>50%</th>\n",
       "      <td>17.000000</td>\n",
       "      <td>3.000000</td>\n",
       "      <td>12.000000</td>\n",
       "    </tr>\n",
       "    <tr>\n",
       "      <th>75%</th>\n",
       "      <td>18.000000</td>\n",
       "      <td>4.000000</td>\n",
       "      <td>14.000000</td>\n",
       "    </tr>\n",
       "    <tr>\n",
       "      <th>max</th>\n",
       "      <td>21.000000</td>\n",
       "      <td>5.000000</td>\n",
       "      <td>19.000000</td>\n",
       "    </tr>\n",
       "  </tbody>\n",
       "</table>\n",
       "</div>"
      ],
      "text/plain": [
       "              age       goout          G3\n",
       "count  383.000000  383.000000  383.000000\n",
       "mean    16.788512    3.127937   12.253264\n",
       "std      1.175524    1.158546    3.124147\n",
       "min     15.000000    1.000000    0.000000\n",
       "25%     16.000000    2.000000   10.000000\n",
       "50%     17.000000    3.000000   12.000000\n",
       "75%     18.000000    4.000000   14.000000\n",
       "max     21.000000    5.000000   19.000000"
      ]
     },
     "execution_count": 18,
     "metadata": {},
     "output_type": "execute_result"
    }
   ],
   "source": [
    "dfcF.describe()"
   ]
  },
  {
   "cell_type": "markdown",
   "metadata": {},
   "source": [
    ">Las mujeres tienen una nota media ligeramente superior a la media muestral 0.347 y menor desviación respecto a la media\n",
    "> Salen de media un poco menos -0.570 y tienen una menor desviación respecto a la media"
   ]
  },
  {
   "cell_type": "code",
   "execution_count": 19,
   "metadata": {},
   "outputs": [
    {
     "data": {
      "text/html": [
       "<div>\n",
       "<style scoped>\n",
       "    .dataframe tbody tr th:only-of-type {\n",
       "        vertical-align: middle;\n",
       "    }\n",
       "\n",
       "    .dataframe tbody tr th {\n",
       "        vertical-align: top;\n",
       "    }\n",
       "\n",
       "    .dataframe thead th {\n",
       "        text-align: right;\n",
       "    }\n",
       "</style>\n",
       "<table border=\"1\" class=\"dataframe\">\n",
       "  <thead>\n",
       "    <tr style=\"text-align: right;\">\n",
       "      <th></th>\n",
       "      <th>age</th>\n",
       "      <th>goout</th>\n",
       "      <th>G3</th>\n",
       "    </tr>\n",
       "  </thead>\n",
       "  <tbody>\n",
       "    <tr>\n",
       "      <th>count</th>\n",
       "      <td>266.000000</td>\n",
       "      <td>266.000000</td>\n",
       "      <td>266.000000</td>\n",
       "    </tr>\n",
       "    <tr>\n",
       "      <th>mean</th>\n",
       "      <td>16.680451</td>\n",
       "      <td>3.266917</td>\n",
       "      <td>11.406015</td>\n",
       "    </tr>\n",
       "    <tr>\n",
       "      <th>std</th>\n",
       "      <td>1.276550</td>\n",
       "      <td>1.197559</td>\n",
       "      <td>3.320690</td>\n",
       "    </tr>\n",
       "    <tr>\n",
       "      <th>min</th>\n",
       "      <td>15.000000</td>\n",
       "      <td>1.000000</td>\n",
       "      <td>0.000000</td>\n",
       "    </tr>\n",
       "    <tr>\n",
       "      <th>25%</th>\n",
       "      <td>16.000000</td>\n",
       "      <td>2.000000</td>\n",
       "      <td>10.000000</td>\n",
       "    </tr>\n",
       "    <tr>\n",
       "      <th>50%</th>\n",
       "      <td>17.000000</td>\n",
       "      <td>3.000000</td>\n",
       "      <td>11.000000</td>\n",
       "    </tr>\n",
       "    <tr>\n",
       "      <th>75%</th>\n",
       "      <td>18.000000</td>\n",
       "      <td>4.000000</td>\n",
       "      <td>13.000000</td>\n",
       "    </tr>\n",
       "    <tr>\n",
       "      <th>max</th>\n",
       "      <td>22.000000</td>\n",
       "      <td>5.000000</td>\n",
       "      <td>19.000000</td>\n",
       "    </tr>\n",
       "  </tbody>\n",
       "</table>\n",
       "</div>"
      ],
      "text/plain": [
       "              age       goout          G3\n",
       "count  266.000000  266.000000  266.000000\n",
       "mean    16.680451    3.266917   11.406015\n",
       "std      1.276550    1.197559    3.320690\n",
       "min     15.000000    1.000000    0.000000\n",
       "25%     16.000000    2.000000   10.000000\n",
       "50%     17.000000    3.000000   11.000000\n",
       "75%     18.000000    4.000000   13.000000\n",
       "max     22.000000    5.000000   19.000000"
      ]
     },
     "execution_count": 19,
     "metadata": {},
     "output_type": "execute_result"
    }
   ],
   "source": [
    "dfcM.describe()"
   ]
  },
  {
   "cell_type": "markdown",
   "metadata": {},
   "source": [
    "> Los hombres tienen una media ligeramente inferior a la media muestral-0.500 y una mayor desviación respecto a la media\n",
    "> Los hombres salen con sus amigos de media mas que el total muestral 0.820 y presentan una desviación respecto a la media mayor."
   ]
  },
  {
   "cell_type": "code",
   "execution_count": 20,
   "metadata": {},
   "outputs": [
    {
     "data": {
      "text/html": [
       "<div>\n",
       "<style scoped>\n",
       "    .dataframe tbody tr th:only-of-type {\n",
       "        vertical-align: middle;\n",
       "    }\n",
       "\n",
       "    .dataframe tbody tr th {\n",
       "        vertical-align: top;\n",
       "    }\n",
       "\n",
       "    .dataframe thead th {\n",
       "        text-align: right;\n",
       "    }\n",
       "</style>\n",
       "<table border=\"1\" class=\"dataframe\">\n",
       "  <thead>\n",
       "    <tr style=\"text-align: right;\">\n",
       "      <th></th>\n",
       "      <th>age</th>\n",
       "      <th>goout</th>\n",
       "      <th>G3</th>\n",
       "    </tr>\n",
       "  </thead>\n",
       "  <tbody>\n",
       "    <tr>\n",
       "      <th>count</th>\n",
       "      <td>423.000000</td>\n",
       "      <td>423.000000</td>\n",
       "      <td>423.000000</td>\n",
       "    </tr>\n",
       "    <tr>\n",
       "      <th>mean</th>\n",
       "      <td>16.666667</td>\n",
       "      <td>3.146572</td>\n",
       "      <td>12.576832</td>\n",
       "    </tr>\n",
       "    <tr>\n",
       "      <th>std</th>\n",
       "      <td>1.244895</td>\n",
       "      <td>1.152899</td>\n",
       "      <td>2.625636</td>\n",
       "    </tr>\n",
       "    <tr>\n",
       "      <th>min</th>\n",
       "      <td>15.000000</td>\n",
       "      <td>1.000000</td>\n",
       "      <td>0.000000</td>\n",
       "    </tr>\n",
       "    <tr>\n",
       "      <th>25%</th>\n",
       "      <td>16.000000</td>\n",
       "      <td>2.000000</td>\n",
       "      <td>11.000000</td>\n",
       "    </tr>\n",
       "    <tr>\n",
       "      <th>50%</th>\n",
       "      <td>17.000000</td>\n",
       "      <td>3.000000</td>\n",
       "      <td>13.000000</td>\n",
       "    </tr>\n",
       "    <tr>\n",
       "      <th>75%</th>\n",
       "      <td>18.000000</td>\n",
       "      <td>4.000000</td>\n",
       "      <td>14.000000</td>\n",
       "    </tr>\n",
       "    <tr>\n",
       "      <th>max</th>\n",
       "      <td>22.000000</td>\n",
       "      <td>5.000000</td>\n",
       "      <td>19.000000</td>\n",
       "    </tr>\n",
       "  </tbody>\n",
       "</table>\n",
       "</div>"
      ],
      "text/plain": [
       "              age       goout          G3\n",
       "count  423.000000  423.000000  423.000000\n",
       "mean    16.666667    3.146572   12.576832\n",
       "std      1.244895    1.152899    2.625636\n",
       "min     15.000000    1.000000    0.000000\n",
       "25%     16.000000    2.000000   11.000000\n",
       "50%     17.000000    3.000000   13.000000\n",
       "75%     18.000000    4.000000   14.000000\n",
       "max     22.000000    5.000000   19.000000"
      ]
     },
     "execution_count": 20,
     "metadata": {},
     "output_type": "execute_result"
    }
   ],
   "source": [
    "dfcGP.describe()"
   ]
  },
  {
   "cell_type": "markdown",
   "metadata": {},
   "source": [
    ">Los estudiantes del colegio Gabriel Pereira tienen una media mayor a la media muestral 0.670 y una menor desviación\n",
    ">Los estuandites del colegio Gabriel Pereira salen con sus amigos de media menos que el total muestral en concreto un -0.380 y presentan una menor desviación respecto de la media\n"
   ]
  },
  {
   "cell_type": "code",
   "execution_count": 21,
   "metadata": {},
   "outputs": [
    {
     "data": {
      "text/html": [
       "<div>\n",
       "<style scoped>\n",
       "    .dataframe tbody tr th:only-of-type {\n",
       "        vertical-align: middle;\n",
       "    }\n",
       "\n",
       "    .dataframe tbody tr th {\n",
       "        vertical-align: top;\n",
       "    }\n",
       "\n",
       "    .dataframe thead th {\n",
       "        text-align: right;\n",
       "    }\n",
       "</style>\n",
       "<table border=\"1\" class=\"dataframe\">\n",
       "  <thead>\n",
       "    <tr style=\"text-align: right;\">\n",
       "      <th></th>\n",
       "      <th>age</th>\n",
       "      <th>goout</th>\n",
       "      <th>G3</th>\n",
       "    </tr>\n",
       "  </thead>\n",
       "  <tbody>\n",
       "    <tr>\n",
       "      <th>count</th>\n",
       "      <td>226.000000</td>\n",
       "      <td>226.000000</td>\n",
       "      <td>226.000000</td>\n",
       "    </tr>\n",
       "    <tr>\n",
       "      <th>mean</th>\n",
       "      <td>16.889381</td>\n",
       "      <td>3.256637</td>\n",
       "      <td>10.650442</td>\n",
       "    </tr>\n",
       "    <tr>\n",
       "      <th>std</th>\n",
       "      <td>1.155152</td>\n",
       "      <td>1.216763</td>\n",
       "      <td>3.833991</td>\n",
       "    </tr>\n",
       "    <tr>\n",
       "      <th>min</th>\n",
       "      <td>15.000000</td>\n",
       "      <td>1.000000</td>\n",
       "      <td>0.000000</td>\n",
       "    </tr>\n",
       "    <tr>\n",
       "      <th>25%</th>\n",
       "      <td>16.000000</td>\n",
       "      <td>2.000000</td>\n",
       "      <td>9.000000</td>\n",
       "    </tr>\n",
       "    <tr>\n",
       "      <th>50%</th>\n",
       "      <td>17.000000</td>\n",
       "      <td>3.000000</td>\n",
       "      <td>11.000000</td>\n",
       "    </tr>\n",
       "    <tr>\n",
       "      <th>75%</th>\n",
       "      <td>18.000000</td>\n",
       "      <td>4.000000</td>\n",
       "      <td>13.000000</td>\n",
       "    </tr>\n",
       "    <tr>\n",
       "      <th>max</th>\n",
       "      <td>20.000000</td>\n",
       "      <td>5.000000</td>\n",
       "      <td>19.000000</td>\n",
       "    </tr>\n",
       "  </tbody>\n",
       "</table>\n",
       "</div>"
      ],
      "text/plain": [
       "              age       goout          G3\n",
       "count  226.000000  226.000000  226.000000\n",
       "mean    16.889381    3.256637   10.650442\n",
       "std      1.155152    1.216763    3.833991\n",
       "min     15.000000    1.000000    0.000000\n",
       "25%     16.000000    2.000000    9.000000\n",
       "50%     17.000000    3.000000   11.000000\n",
       "75%     18.000000    4.000000   13.000000\n",
       "max     20.000000    5.000000   19.000000"
      ]
     },
     "execution_count": 21,
     "metadata": {},
     "output_type": "execute_result"
    }
   ],
   "source": [
    "dfcMS.describe()"
   ]
  },
  {
   "cell_type": "markdown",
   "metadata": {},
   "source": [
    ">Los estudiantes del colegio Mousinho da Silveira tienen una media menor a la media muestral en -1.256 puntos y una desviación mayor.\n",
    ">Los estudiantes del colegio Mousinho da Silveira salen de media mas que el total de la muestra en 0.720 puntos y presentan una desviación mayor."
   ]
  },
  {
   "cell_type": "markdown",
   "metadata": {},
   "source": [
    "## Bivariante"
   ]
  },
  {
   "cell_type": "code",
   "execution_count": 22,
   "metadata": {},
   "outputs": [
    {
     "name": "stdout",
     "output_type": "stream",
     "text": [
      "Covarianza entre goout y G3: -0.3329029466035112\n",
      "Correlación entre goout y G3: -0.08764072272424217\n"
     ]
    }
   ],
   "source": [
    "x = dfc['goout']\n",
    "y = dfc['G3']\n",
    "covariance = np.cov(x, y)[0, 1]\n",
    "\n",
    "print(f'Covarianza entre goout y G3: {covariance}')\n",
    "\n",
    "correlation_matrix = np.corrcoef(x, y)\n",
    "\n",
    "correlation = correlation_matrix[0, 1]\n",
    "\n",
    "print(f'Correlación entre goout y G3: {correlation}')"
   ]
  },
  {
   "cell_type": "markdown",
   "metadata": {},
   "source": [
    "Hemos estudiado la covarianza y la correlación entre las variables 'goout' (representando el tiempo social) y 'G3' (las notas finales).\n",
    "\n",
    "# Covarianza:\n",
    ">Primero, calculamos la covarianza entre estas dos variables, obteniendo un valor de aproximadamente -0.333. Esta medida indica una relación inversa entre el tiempo dedicado a actividades sociales y las notas finales. Específicamente, cuando el tiempo social disminuye, las notas finales tienden a ser más altas, y viceversa. No obstante, la covarianza no proporciona detalles sobre la fuerza o magnitud exacta de esta relación.\n",
    "\n",
    "# Correlación:\n",
    ">Para obtener una perspectiva más detallada, calculamos la correlación normalizada entre 'goout' y 'G3'. El resultado fue de aproximadamente -0.0876. Este valor cercano a cero indica una correlación débil y sugiere que no existe una relación lineal fuerte entre el tiempo social y las notas finales. Además, al ser negativo, la correlación indica una tendencia leve hacia una relación inversa, aunque esta asociación es bastante débil.\n",
    "\n",
    ">En resumen, los resultados indican que hay una relación inversa leve entre el tiempo social y las notas finales, pero la debilidad de la correlación sugiere que otros factores pueden estar influyendo significativamente en el rendimiento académico de los estudiantes."
   ]
  },
  {
   "cell_type": "code",
   "execution_count": 23,
   "metadata": {},
   "outputs": [
    {
     "name": "stdout",
     "output_type": "stream",
     "text": [
      "col_0     count  percentage\n",
      "romantic                   \n",
      "no          410   63.174114\n",
      "yes         239   36.825886\n"
     ]
    }
   ],
   "source": [
    "frequency_table = pd.crosstab(index=df['romantic'], columns=\"count\")\n",
    "frequency_table['percentage'] = (frequency_table / frequency_table.sum()) * 100\n",
    "\n",
    "print(frequency_table)"
   ]
  },
  {
   "cell_type": "code",
   "execution_count": 24,
   "metadata": {},
   "outputs": [
    {
     "data": {
      "image/png": "[encoded data removed]",
      "text/plain": [
       "<Figure size 640x480 with 1 Axes>"
      ]
     },
     "metadata": {},
     "output_type": "display_data"
    }
   ],
   "source": [
    "sns.boxplot(x='romantic', y='G3', data=df)\n",
    "plt.title('Boxplot de G3 por romantic')\n",
    "plt.show()"
   ]
  },
  {
   "cell_type": "code",
   "execution_count": 25,
   "metadata": {},
   "outputs": [
    {
     "ename": "NameError",
     "evalue": "name 'subsets' is not defined",
     "output_type": "error",
     "traceback": [
      "\u001b[1;31m---------------------------------------------------------------------------\u001b[0m",
      "\u001b[1;31mNameError\u001b[0m                                 Traceback (most recent call last)",
      "Cell \u001b[1;32mIn[25], line 5\u001b[0m\n\u001b[0;32m      2\u001b[0m plt\u001b[38;5;241m.\u001b[39mfigure(figsize\u001b[38;5;241m=\u001b[39m(\u001b[38;5;241m12\u001b[39m, \u001b[38;5;241m8\u001b[39m))\n\u001b[0;32m      4\u001b[0m variable_x \u001b[38;5;241m=\u001b[39m \u001b[38;5;124m'\u001b[39m\u001b[38;5;124mG3\u001b[39m\u001b[38;5;124m'\u001b[39m\n\u001b[1;32m----> 5\u001b[0m \u001b[38;5;28;01mfor\u001b[39;00m subset, label, color \u001b[38;5;129;01min\u001b[39;00m \u001b[38;5;28mzip\u001b[39m(\u001b[43msubsets\u001b[49m, labels, colors):\n\u001b[0;32m      6\u001b[0m     sns\u001b[38;5;241m.\u001b[39mkdeplot(subset[variable_x], label\u001b[38;5;241m=\u001b[39mlabel, color\u001b[38;5;241m=\u001b[39mcolor)\n\u001b[0;32m      8\u001b[0m \u001b[38;5;66;03m# Configuración de leyendas y título\u001b[39;00m\n",
      "\u001b[1;31mNameError\u001b[0m: name 'subsets' is not defined"
     ]
    },
    {
     "data": {
      "text/plain": [
       "<Figure size 1200x800 with 0 Axes>"
      ]
     },
     "metadata": {},
     "output_type": "display_data"
    }
   ],
   "source": [
    "\n",
    "# Configuración del gráfico de densidad\n",
    "plt.figure(figsize=(12, 8))\n",
    "\n",
    "variable_x = 'G3'\n",
    "for subset, label, color in zip(subsets, labels, colors):\n",
    "    sns.kdeplot(subset[variable_x], label=label, color=color)\n",
    "\n",
    "# Configuración de leyendas y título\n",
    "plt.title(f'Gráfico de Densidad de {variable_x} en diferentes subconjuntos')\n",
    "plt.xlabel(variable_x)\n",
    "plt.ylabel('Densidad')\n",
    "plt.legend()\n",
    "plt.show()\n"
   ]
  },
  {
   "cell_type": "code",
   "execution_count": null,
   "metadata": {},
   "outputs": [
    {
     "data": {
      "image/png": "[encoded data removed]",
      "text/plain": [
       "<Figure size 1000x600 with 1 Axes>"
      ]
     },
     "metadata": {},
     "output_type": "display_data"
    }
   ],
   "source": [
    "dataframes = [dfcF, dfcM, dfcGP, dfcMS]\n",
    "labels = ['F', 'M', 'GP', 'MS']\n",
    "\n",
    "\n",
    "variable_y = 'goout'\n",
    "\n",
    "# Crear el boxplot para cada DataFrame\n",
    "plt.figure(figsize=(10, 6))\n",
    "plt.boxplot([df[variable_y] for df in dataframes], labels=labels)\n",
    "plt.title(f'Boxplot de {variable_y} para los 4 grupos')\n",
    "plt.xlabel('Grupos')\n",
    "plt.ylabel(variable_y)\n",
    "plt.show()"
   ]
  },
  {
   "cell_type": "code",
   "execution_count": null,
   "metadata": {},
   "outputs": [
    {
     "data": {
      "image/png": "[encoded data removed]",
      "text/plain": [
       "<Figure size 1000x600 with 1 Axes>"
      ]
     },
     "metadata": {},
     "output_type": "display_data"
    }
   ],
   "source": [
    "import matplotlib.pyplot as plt\n",
    "import pandas as pd\n",
    "\n",
    "\n",
    "\n",
    "dataframes = [dfcF, dfcM, dfcGP, dfcMS]\n",
    "labels = ['F', 'M', 'GP', 'MS']\n",
    "\n",
    "\n",
    "variable_y = 'G3'\n",
    "\n",
    "# Crear el boxplot para cada DataFrame\n",
    "plt.figure(figsize=(10, 6))\n",
    "plt.boxplot([df[variable_y] for df in dataframes], labels=labels)\n",
    "plt.title(f'Boxplot de {variable_y} para los 4 grupos')\n",
    "plt.xlabel('Grupos')\n",
    "plt.ylabel(variable_y)\n",
    "plt.show()\n"
   ]
  },
  {
   "cell_type": "code",
   "execution_count": 26,
   "metadata": {},
   "outputs": [
    {
     "data": {
      "image/png": "[encoded data removed]",
      "text/plain": [
       "<Figure size 640x480 with 1 Axes>"
      ]
     },
     "metadata": {},
     "output_type": "display_data"
    }
   ],
   "source": [
    "\n",
    "\n",
    "# Suponiendo que ya has leído el DataFrame df desde el archivo CSV\n",
    "\n",
    "# Selecciona las variables de interés\n",
    "variable_x = 'goout'\n",
    "variable_y = 'G3'\n",
    "\n",
    "# Crea el gráfico de dispersión\n",
    "plt.scatter(dfc[variable_x], dfc[variable_y], alpha=0.5)\n",
    "plt.title(f'Relación entre {variable_x} y {variable_y}')\n",
    "plt.xlabel(variable_x)\n",
    "plt.ylabel(variable_y)\n",
    "plt.show()"
   ]
  },
  {
   "cell_type": "markdown",
   "metadata": {},
   "source": [
    "# INFERENCIA"
   ]
  },
  {
   "cell_type": "markdown",
   "metadata": {},
   "source": [
    "## Estudio normalidad G3"
   ]
  },
  {
   "cell_type": "code",
   "execution_count": null,
   "metadata": {},
   "outputs": [
    {
     "data": {
      "text/plain": [
       "NormaltestResult(statistic=114.20475535916196, pvalue=1.5876416009730048e-25)"
      ]
     },
     "execution_count": 18,
     "metadata": {},
     "output_type": "execute_result"
    }
   ],
   "source": [
    "scipy.stats.normaltest(dfc['G3'])"
   ]
  },
  {
   "cell_type": "code",
   "execution_count": null,
   "metadata": {},
   "outputs": [
    {
     "data": {
      "image/png": "[encoded data removed]",
      "text/plain": [
       "<Figure size 800x600 with 1 Axes>"
      ]
     },
     "metadata": {},
     "output_type": "display_data"
    }
   ],
   "source": [
    "import scipy.stats as stats\n",
    "import matplotlib.pyplot as plt\n",
    "\n",
    "# Supongamos que 'data' es tu variable de interés\n",
    "data = dfc['G3']\n",
    "\n",
    "# Configuración del gráfico Q-Q\n",
    "plt.figure(figsize=(8, 6))\n",
    "stats.probplot(data, dist=\"norm\", plot=plt)\n",
    "plt.title('Gráfico Q-Q de la Variable')\n",
    "plt.show()"
   ]
  },
  {
   "cell_type": "code",
   "execution_count": null,
   "metadata": {},
   "outputs": [
    {
     "name": "stdout",
     "output_type": "stream",
     "text": [
      "Estadístico de prueba: 0.9259809367060796\n",
      "Valor p: 2.4159862607742608e-17\n"
     ]
    }
   ],
   "source": [
    "from scipy.stats import shapiro\n",
    "\n",
    "data = dfc['G3']\n",
    "\n",
    "# Realizar la prueba de Shapiro-Wilk\n",
    "stat, p_value = shapiro(data)\n",
    "\n",
    "print(f'Estadístico de prueba: {stat}')\n",
    "print(f'Valor p: {p_value}')"
   ]
  },
  {
   "cell_type": "code",
   "execution_count": null,
   "metadata": {},
   "outputs": [
    {
     "name": "stdout",
     "output_type": "stream",
     "text": [
      "Estadístico de prueba: 8.233576677118435\n",
      "Valores críticos: [0.573 0.652 0.782 0.912 1.085]\n",
      "Niveles de significancia: [15.  10.   5.   2.5  1. ]\n"
     ]
    }
   ],
   "source": [
    "from scipy.stats import anderson\n",
    "\n",
    "\n",
    "data = dfc['G3']\n",
    "\n",
    "# Realizar la prueba de Anderson-Darling\n",
    "result = anderson(data)\n",
    "\n",
    "print(f'Estadístico de prueba: {result.statistic}')\n",
    "print(f'Valores críticos: {result.critical_values}')\n",
    "print(f'Niveles de significancia: {result.significance_level}')"
   ]
  },
  {
   "cell_type": "markdown",
   "metadata": {},
   "source": [
    "## Estudio normalidad goout"
   ]
  },
  {
   "cell_type": "code",
   "execution_count": null,
   "metadata": {},
   "outputs": [
    {
     "data": {
      "text/plain": [
       "NormaltestResult(statistic=70.5973250516152, pvalue=4.677196827985334e-16)"
      ]
     },
     "execution_count": 60,
     "metadata": {},
     "output_type": "execute_result"
    }
   ],
   "source": [
    "scipy.stats.normaltest(dfc['goout'])"
   ]
  },
  {
   "cell_type": "code",
   "execution_count": null,
   "metadata": {},
   "outputs": [
    {
     "data": {
      "image/png": "[encoded data removed]",
      "text/plain": [
       "<Figure size 800x600 with 1 Axes>"
      ]
     },
     "metadata": {},
     "output_type": "display_data"
    }
   ],
   "source": [
    "import scipy.stats as stats\n",
    "import matplotlib.pyplot as plt\n",
    "\n",
    "# Supongamos que 'data' es tu variable de interés\n",
    "data = dfc['G3']\n",
    "\n",
    "# Configuración del gráfico Q-Q\n",
    "plt.figure(figsize=(8, 6))\n",
    "stats.probplot(data, dist=\"norm\", plot=plt)\n",
    "plt.title('Gráfico Q-Q de la Variable')\n",
    "plt.show()"
   ]
  },
  {
   "cell_type": "code",
   "execution_count": null,
   "metadata": {},
   "outputs": [
    {
     "name": "stdout",
     "output_type": "stream",
     "text": [
      "Estadístico de prueba: 0.9259809367060796\n",
      "Valor p: 2.4159862607742608e-17\n"
     ]
    }
   ],
   "source": [
    "from scipy.stats import shapiro\n",
    "\n",
    "data = dfc['G3']\n",
    "\n",
    "# Realizar la prueba de Shapiro-Wilk\n",
    "stat, p_value = shapiro(data)\n",
    "\n",
    "print(f'Estadístico de prueba: {stat}')\n",
    "print(f'Valor p: {p_value}')"
   ]
  },
  {
   "cell_type": "code",
   "execution_count": null,
   "metadata": {},
   "outputs": [
    {
     "name": "stdout",
     "output_type": "stream",
     "text": [
      "Estadístico de prueba: 8.233576677118435\n",
      "Valores críticos: [0.573 0.652 0.782 0.912 1.085]\n",
      "Niveles de significancia: [15.  10.   5.   2.5  1. ]\n"
     ]
    }
   ],
   "source": [
    "from scipy.stats import anderson\n",
    "\n",
    "\n",
    "data = dfc['G3']\n",
    "\n",
    "# Realizar la prueba de Anderson-Darling\n",
    "result = anderson(data)\n",
    "\n",
    "print(f'Estadístico de prueba: {result.statistic}')\n",
    "print(f'Valores críticos: {result.critical_values}')\n",
    "print(f'Niveles de significancia: {result.significance_level}')"
   ]
  },
  {
   "cell_type": "markdown",
   "metadata": {},
   "source": [
    "# Anova para romantic y G3"
   ]
  },
  {
   "cell_type": "code",
   "execution_count": null,
   "metadata": {},
   "outputs": [
    {
     "name": "stdout",
     "output_type": "stream",
     "text": [
      "               sum_sq     df         F    PR(>F)\n",
      "romantic    55.494352    1.0  5.352723  0.021002\n",
      "Residual  6707.772211  647.0       NaN       NaN\n"
     ]
    }
   ],
   "source": [
    "model = ols('G3 ~ romantic', data=dfc).fit()\n",
    "anova_table = sm.stats.anova_lm(model, typ=2)\n",
    "\n",
    "print(anova_table)"
   ]
  },
  {
   "cell_type": "markdown",
   "metadata": {},
   "source": [
    "## Interpretación de la tabla ANOVA:\n",
    "\n",
    ">Sum_sq (Suma de cuadrados):\n",
    "La suma de cuadrados asociada con la variable romantic es 55.494352.\n",
    "La suma de cuadrados residual (error) es 6707.772211.\n",
    "df (grados de libertad):\n",
    "Hay 1 grado de libertad asociado con la variable romantic.\n",
    "Hay 647 grados de libertad residuales (error).\n",
    "F (Estadística F):\n",
    "El valor de la estadística F es 5.352723.\n",
    "PR(>F) (Valor p):\n",
    "El valor p es 0.021002.\n",
    "Interpretación del valor p (PR(>F)):\n",
    "\n",
    ">El valor p (0.021002) es menor que el nivel de significancia común de 0.05.\n",
    "Esto sugiere que hay evidencia estadística significativa para rechazar la hipótesis nula de que no hay efecto de la variable romantic en la variable dependiente G3.\n",
    "Interpretación de la estadística F:\n",
    "\n",
    ">La estadística F compara la variabilidad explicada por la variable romantic con la variabilidad no explicada (residual).\n",
    "    Un valor F grande sugiere que la variable romantic está teniendo un efecto significativo en la variable G3.\n",
    "\n",
    "## Conclusiones:\n",
    "\n",
    ">La variable romantic parece tener un impacto significativo en la variable dependiente G3, según el análisis de ANOVA.\n",
    "La relación entre estas dos variables es estadísticamente significativa.\n",
    "\n",
    "\n",
    ">En resumen, según el análisis de ANOVA, hay evidencia estadística para sugerir que la variable romantic tiene un impacto significativo en la variable G3."
   ]
  }
 ],
 "metadata": {
  "kernelspec": {
   "display_name": "Python 3",
   "language": "python",
   "name": "python3"
  },
  "language_info": {
   "codemirror_mode": {
    "name": "ipython",
    "version": 3
   },
   "file_extension": ".py",
   "mimetype": "text/x-python",
   "name": "python",
   "nbconvert_exporter": "python",
   "pygments_lexer": "ipython3",
   "version": "3.10.11"
  }
 },
 "nbformat": 4,
 "nbformat_minor": 2
}
